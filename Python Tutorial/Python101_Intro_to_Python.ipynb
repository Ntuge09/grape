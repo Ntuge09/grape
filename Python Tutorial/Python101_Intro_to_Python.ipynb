{
  "nbformat": 4,
  "nbformat_minor": 0,
  "metadata": {
    "colab": {
      "name": "Python101 - Intro to Python.ipynb",
      "provenance": []
    },
    "kernelspec": {
      "name": "python3",
      "display_name": "Python 3"
    }
  },
  "cells": [
    {
      "cell_type": "markdown",
      "metadata": {
        "id": "jywzSmwDtyMW"
      },
      "source": [
        "# Introduction to Python\n",
        "\n",
        "Python is an interpreter language\n",
        "\n",
        "## 1. Basics of Python"
      ]
    },
    {
      "cell_type": "code",
      "metadata": {
        "id": "HYNR8kheulLM",
        "outputId": "286bc03c-1bad-4bce-bc79-0251e22fde32",
        "colab": {
          "base_uri": "https://localhost:8080/"
        }
      },
      "source": [
        "# Print Statement\n",
        "\n",
        "print('my name is ntombi tuge and i was born in', 1998)\n",
        "\n",
        "year_started =1996\n",
        "print('The year the company was established is'year_started)\n",
        "\n",
        "\n",
        "\n"
      ],
      "execution_count": 1,
      "outputs": [
        {
          "output_type": "stream",
          "name": "stdout",
          "text": [
            "my name is ntombi tuge and i was born in 1998\n"
          ]
        }
      ]
    },
    {
      "cell_type": "markdown",
      "metadata": {
        "id": "k7q58UqZ2oqo"
      },
      "source": [
        "#### Comment\n",
        "Comment can be used for documentation or explanation of code. Multiline comment is not supported though in python but multiline strings are used in that case."
      ]
    },
    {
      "cell_type": "code",
      "metadata": {
        "id": "K2dNknaU2l_H"
      },
      "source": [
        "# This a comment"
      ],
      "execution_count": 2,
      "outputs": []
    },
    {
      "cell_type": "code",
      "metadata": {
        "id": "8BtUMPy_2-kz",
        "outputId": "aada73e6-f142-41f8-b9fa-0631316d22ae",
        "colab": {
          "base_uri": "https://localhost:8080/",
          "height": 35
        }
      },
      "source": [
        "'''\n",
        "This is a multi\n",
        "line comment\n",
        "'''"
      ],
      "execution_count": 3,
      "outputs": [
        {
          "output_type": "execute_result",
          "data": {
            "text/plain": [
              "'\\nThis is a multi\\nline comment\\n'"
            ],
            "application/vnd.google.colaboratory.intrinsic+json": {
              "type": "string"
            }
          },
          "metadata": {},
          "execution_count": 3
        }
      ]
    },
    {
      "cell_type": "markdown",
      "metadata": {
        "id": "30ZsMPicvJal"
      },
      "source": [
        "### Arithmetic Operators\n",
        "\n",
        "Python supports 7 arithmetic operations\n",
        "- +(additon)\n",
        "- -(Subtraction)\n",
        "- *(Multiplication)\n",
        "- /(Division)\n",
        "- //(Integer Division)\n",
        "-  %(Modulus)\n",
        "- **(Exponential)"
      ]
    },
    {
      "cell_type": "code",
      "metadata": {
        "id": "Oh8kgCS0un_p",
        "outputId": "ce67acb4-5283-409e-b966-5990e7908578",
        "colab": {
          "base_uri": "https://localhost:8080/"
        }
      },
      "source": [
        "# Addition\n",
        "print( 5 + 6)\n",
        "\n",
        "# Subtraction\n",
        "print( 10 - 7)\n",
        "\n",
        "# Multiplication\n",
        "print( 6 * 7)\n",
        "\n",
        "# Division\n",
        "print( 35 / 9)\n",
        "\n",
        "# Integer Division\n",
        "print ( 35 // 9)\n",
        "\n",
        "# Modulus\n",
        "print( 35 % 9)\n",
        "\n",
        "# Exponential\n",
        "print( 5 ** 8)"
      ],
      "execution_count": 4,
      "outputs": [
        {
          "output_type": "stream",
          "name": "stdout",
          "text": [
            "11\n",
            "3\n",
            "42\n",
            "3.888888888888889\n",
            "3\n",
            "8\n",
            "390625\n"
          ]
        }
      ]
    },
    {
      "cell_type": "markdown",
      "metadata": {
        "id": "xNbJWwmR7O-Q"
      },
      "source": [
        "### Relational Operators\n",
        "There are 6 relational operators\n",
        "- == (Equal)\n",
        "- != (Not equal)\n",
        "- \\> (Greater than)\n",
        "- \\< (Less than \tx < y)\n",
        "- \\>= (Greater than or equal to)\n",
        "- <= \t(Less than or equal to)"
      ]
    },
    {
      "cell_type": "code",
      "metadata": {
        "id": "m-C5AviX8Eui",
        "outputId": "92498a41-327e-4a67-ac7b-ee515284f84b",
        "colab": {
          "base_uri": "https://localhost:8080/"
        }
      },
      "source": [
        "# greater than\n",
        "print(45 > 34)\n",
        "\n",
        "# less than\n",
        "print(45 < 34)\n",
        "\n",
        "# equal\n",
        "print(45 == 34)\n",
        "\n",
        "# not equal\n",
        "print(45 != 34)\n",
        "\n",
        "# less than or equal to\n",
        "print(45 <= 34)\n",
        "\n",
        "# greater than or equal to\n",
        "print(45 >= 34)"
      ],
      "execution_count": 5,
      "outputs": [
        {
          "output_type": "stream",
          "name": "stdout",
          "text": [
            "True\n",
            "False\n",
            "False\n",
            "True\n",
            "False\n",
            "True\n"
          ]
        }
      ]
    },
    {
      "cell_type": "markdown",
      "metadata": {
        "id": "--CuGBR55KQC"
      },
      "source": [
        "### Logical Operations\n",
        "There are mainly 3 logical operations\n",
        "- and operator - Returns 1 when both operands is non-zero and returns True both are True\n",
        "- or operator - Returns 1 when either of the operands are non-zero and returns True when either is True.\n",
        "- not operator - Returns True when operand is zero or False"
      ]
    },
    {
      "cell_type": "code",
      "metadata": {
        "id": "WG-aU0HU5JSe",
        "outputId": "ef77b914-efac-4b68-9004-f3e14c7d187d",
        "colab": {
          "base_uri": "https://localhost:8080/"
        }
      },
      "source": [
        "# And operator\n",
        "print(0 and 3)\n",
        "print(5 and 0)\n",
        "print(0 and 0)\n",
        "print(5 and 5)\n",
        "\n",
        "print((6 > 3) and (3 == 5))\n",
        "\n",
        "# And operator\n",
        "print(0 or 3)\n",
        "print(5 or 0)\n",
        "print(0 or 0)\n",
        "print(5 or 5)\n",
        "\n",
        "\n",
        "print((6 > 3) or (3 == 5))\n",
        "\n",
        "# Not operator\n",
        "print(not 5)\n",
        "print(not 0)\n",
        "print( not (6<3))\n"
      ],
      "execution_count": 6,
      "outputs": [
        {
          "output_type": "stream",
          "name": "stdout",
          "text": [
            "0\n",
            "0\n",
            "0\n",
            "5\n",
            "False\n",
            "3\n",
            "5\n",
            "0\n",
            "5\n",
            "True\n",
            "False\n",
            "True\n",
            "True\n"
          ]
        }
      ]
    },
    {
      "cell_type": "markdown",
      "metadata": {
        "id": "8_Qxk4iU8ni0"
      },
      "source": [
        "## Variables and DataTypes"
      ]
    },
    {
      "cell_type": "code",
      "metadata": {
        "id": "cliExyAp4WqH",
        "outputId": "7c1f90c6-461b-4973-c2ca-a50d35784464",
        "colab": {
          "base_uri": "https://localhost:8080/"
        }
      },
      "source": [
        "# Assignment\n",
        "a = 12\n",
        "b = 65\n",
        "c = a * b\n",
        "print( a * b)\n",
        "print(c)"
      ],
      "execution_count": 7,
      "outputs": [
        {
          "output_type": "stream",
          "name": "stdout",
          "text": [
            "780\n",
            "780\n"
          ]
        }
      ]
    },
    {
      "cell_type": "markdown",
      "metadata": {
        "id": "a7t2GSNi9OVV"
      },
      "source": [
        "### Variable naming rules\n",
        "Variable names flow almost same set of rules like most other programming languages\n",
        "\n",
        "1.    A variable name must start with a letter or the underscore character\n",
        "2.    A variable name cannot start with a number\n",
        "3.    A variable name can only contain alpha-numeric characters and underscores (A-z, 0-9, and _ )\n",
        "4.    Variable names are case-sensitive (age, Age and AGE are three different variables)\n"
      ]
    },
    {
      "cell_type": "code",
      "metadata": {
        "id": "4aOhF61z9Z9U",
        "outputId": "b7c1718a-ff3a-405c-8b9c-4224c4782a70",
        "colab": {
          "base_uri": "https://localhost:8080/"
        }
      },
      "source": [
        "adl_123= 123\n",
        "print( adl_123)"
      ],
      "execution_count": 8,
      "outputs": [
        {
          "output_type": "stream",
          "name": "stdout",
          "text": [
            "123\n"
          ]
        }
      ]
    },
    {
      "cell_type": "code",
      "metadata": {
        "id": "Z3W0xtko-QfF"
      },
      "source": [
        "# no special character\n",
        "a=5"
      ],
      "execution_count": 9,
      "outputs": []
    },
    {
      "cell_type": "markdown",
      "metadata": {
        "id": "DXX0VHX1-h1a"
      },
      "source": [
        "### Data types\n",
        "- Text Type: \tstr\n",
        "- Numeric Types: \tint, float, complex\n",
        "- Sequence Types: \tlist, tuple, range\n",
        "- Mapping Type: \tdict\n",
        "- Set Types: \tset, frozenset\n",
        "- Boolean Type: \tbool\n",
        "- Binary Types: \tbytes, bytearray, memoryview\n",
        "\n",
        "[Note: Python supports auto-typecasting and doesn't imply user to provide data type of variable during declaration. Type of any variable can be checked using type(). ]"
      ]
    },
    {
      "cell_type": "code",
      "metadata": {
        "id": "ik6xVCr4-gu1",
        "outputId": "7573b4a6-460b-4bd4-8013-ed01df1cddde",
        "colab": {
          "base_uri": "https://localhost:8080/"
        }
      },
      "source": [
        "x = 5\n",
        "print(type(x))\n",
        "x = \"Hello World\"\n",
        "print(type(x))\n",
        "x = 20\n",
        "print(type(x))\n",
        "x = 20.5\n",
        "print(type(x))\n",
        "x = 1j\n",
        "print(type(x))\n",
        "x = [\"apple\", \"banana\", \"cherry\"]\n",
        "print(type(x))\n",
        "x = (\"apple\", \"banana\", \"cherry\")\n",
        "print(type(x))\n",
        "x = range(6)\n",
        "print(type(x))\n",
        "x = {\"name\" : \"John\", \"age\" : 36}\n",
        "print(type(x))\n",
        "x = {\"apple\", \"banana\", \"cherry\"}\n",
        "print(type(x))\n",
        "x = frozenset({\"apple\", \"banana\", \"cherry\"})\n",
        "print(type(x))\n",
        "x = True\n",
        "print(type(x))\n",
        "x = b\"Hello\"\n",
        "print(type(x))\n",
        "x = bytearray(5)\n",
        "print(type(x))\n",
        "x = memoryview(bytes(5))\n",
        "print(type(x))\n"
      ],
      "execution_count": 10,
      "outputs": [
        {
          "output_type": "stream",
          "name": "stdout",
          "text": [
            "<class 'int'>\n",
            "<class 'str'>\n",
            "<class 'int'>\n",
            "<class 'float'>\n",
            "<class 'complex'>\n",
            "<class 'list'>\n",
            "<class 'tuple'>\n",
            "<class 'range'>\n",
            "<class 'dict'>\n",
            "<class 'set'>\n",
            "<class 'frozenset'>\n",
            "<class 'bool'>\n",
            "<class 'bytes'>\n",
            "<class 'bytearray'>\n",
            "<class 'memoryview'>\n"
          ]
        }
      ]
    },
    {
      "cell_type": "markdown",
      "metadata": {
        "id": "7bkBO2NiDYEu"
      },
      "source": [
        "### Conditional Statements\n",
        "Simply these are if, if-else and if-elif-else or combination of if-many elif-else"
      ]
    },
    {
      "cell_type": "code",
      "metadata": {
        "id": "QPyQzk2bDXoA",
        "outputId": "b5d77f28-2d84-4926-86fd-860994276f9e",
        "colab": {
          "base_uri": "https://localhost:8080/"
        }
      },
      "source": [
        "x=4\n",
        "\n",
        "if(x%2==0):\n",
        "    print(\"Even\")\n",
        "else:\n",
        "    print(\"Odd\")"
      ],
      "execution_count": 11,
      "outputs": [
        {
          "output_type": "stream",
          "name": "stdout",
          "text": [
            "Even\n"
          ]
        }
      ]
    },
    {
      "cell_type": "code",
      "metadata": {
        "id": "jMZ1LYyG-S7N",
        "outputId": "1d9842ff-d911-47eb-bb66-881f1044be8b",
        "colab": {
          "base_uri": "https://localhost:8080/"
        }
      },
      "source": [
        "y=90\n",
        "\n",
        "if(y>90):\n",
        "    print(\"Grade A\")\n",
        "elif(y>60):\n",
        "    print(\"Grade B\")\n",
        "else:\n",
        "    print(\"Grade F\")"
      ],
      "execution_count": 12,
      "outputs": [
        {
          "output_type": "stream",
          "name": "stdout",
          "text": [
            "Grade B\n"
          ]
        }
      ]
    },
    {
      "cell_type": "markdown",
      "metadata": {
        "id": "nW4NdvznJVSd"
      },
      "source": [
        "### Looping Conditions"
      ]
    },
    {
      "cell_type": "code",
      "metadata": {
        "id": "CtkME_mYJcsG",
        "outputId": "fe7de63e-de5c-4a2a-8f8e-67b6c43df760",
        "colab": {
          "base_uri": "https://localhost:8080/"
        }
      },
      "source": [
        "for i in range(11,50):\n",
        "    print(i)"
      ],
      "execution_count": 13,
      "outputs": [
        {
          "output_type": "stream",
          "name": "stdout",
          "text": [
            "11\n",
            "12\n",
            "13\n",
            "14\n",
            "15\n",
            "16\n",
            "17\n",
            "18\n",
            "19\n",
            "20\n",
            "21\n",
            "22\n",
            "23\n",
            "24\n",
            "25\n",
            "26\n",
            "27\n",
            "28\n",
            "29\n",
            "30\n",
            "31\n",
            "32\n",
            "33\n",
            "34\n",
            "35\n",
            "36\n",
            "37\n",
            "38\n",
            "39\n",
            "40\n",
            "41\n",
            "42\n",
            "43\n",
            "44\n",
            "45\n",
            "46\n",
            "47\n",
            "48\n",
            "49\n"
          ]
        }
      ]
    },
    {
      "cell_type": "code",
      "metadata": {
        "id": "OK8CCYEaJkIl",
        "outputId": "67db55d9-2ca7-4a29-9b1f-8e8445f216fd",
        "colab": {
          "base_uri": "https://localhost:8080/"
        }
      },
      "source": [
        "i = 10\n",
        "s = 0\n",
        "while i!=0:\n",
        "  s = s + i\n",
        "  i = i - 1\n",
        "print(s)"
      ],
      "execution_count": 14,
      "outputs": [
        {
          "output_type": "stream",
          "name": "stdout",
          "text": [
            "55\n"
          ]
        }
      ]
    },
    {
      "cell_type": "markdown",
      "metadata": {
        "id": "npfOcbHPOV4y"
      },
      "source": [
        "## 2. List and Functions\n",
        "\n",
        "### Functions\n",
        "Functions can be either built-in or user-defined. Lets look at some of the builtin functions"
      ]
    },
    {
      "cell_type": "code",
      "metadata": {
        "id": "51N7k4OMQYkF"
      },
      "source": [
        "# Let's define some list for the following illustrations\n",
        "\n",
        "num_list = [12, 65, 74, 82, 32.6, 71.4, 3.14]\n",
        "names_list=['palspal','anitesh','rajueatskaju','shatadru','ucalyptus']\n",
        "math_constant_list = [ 2.71828, 3.1415926535, 1.32471, 3.3598856662]"
      ],
      "execution_count": 15,
      "outputs": []
    },
    {
      "cell_type": "code",
      "metadata": {
        "id": "w2IMCvBbJ5mg",
        "outputId": "1a372821-8e57-4d8d-9c83-a765c140a366",
        "colab": {
          "base_uri": "https://localhost:8080/"
        }
      },
      "source": [
        "# type() - Find the data type of any variable as discussed before\n",
        "print(type(2))\n",
        "\n",
        "# print() is also a builtin function\n",
        "print(\"Hello gals and guys\")\n",
        "\n",
        "# input()\n",
        "a = input(\"Enter a number: \")\n",
        "print(a)"
      ],
      "execution_count": null,
      "outputs": [
        {
          "output_type": "stream",
          "name": "stdout",
          "text": [
            "<class 'int'>\n",
            "Hello gals and guys\n"
          ]
        }
      ]
    },
    {
      "cell_type": "code",
      "metadata": {
        "id": "oOy31NgEXRMC"
      },
      "source": [
        "# min() - minimum\n",
        "min(math_constant_list)"
      ],
      "execution_count": null,
      "outputs": []
    },
    {
      "cell_type": "code",
      "metadata": {
        "id": "9_vhNhAwXXqX"
      },
      "source": [
        "# max() - maximum\n",
        "max(names_list)"
      ],
      "execution_count": null,
      "outputs": []
    },
    {
      "cell_type": "code",
      "metadata": {
        "id": "SVMUFJbJYnP6"
      },
      "source": [
        "max(names_list,key=len)# max() or min() function returns the first element when there are two or more elements with the same length."
      ],
      "execution_count": null,
      "outputs": []
    },
    {
      "cell_type": "code",
      "metadata": {
        "id": "Y125_yWDW0oN"
      },
      "source": [
        "# len() - length\n",
        "len(names_list)"
      ],
      "execution_count": null,
      "outputs": []
    },
    {
      "cell_type": "code",
      "metadata": {
        "id": "Fp03dsy0XjpR"
      },
      "source": [
        "# round(no,n) - roundoff no to n digits\n",
        "round(math_constant_list[2],5)"
      ],
      "execution_count": null,
      "outputs": []
    },
    {
      "cell_type": "code",
      "metadata": {
        "id": "Pj2CQFqGYFZa"
      },
      "source": [
        "# help() - check the details of the function\n",
        "help(len)"
      ],
      "execution_count": null,
      "outputs": []
    },
    {
      "cell_type": "code",
      "metadata": {
        "id": "xd8FNIGqLts4"
      },
      "source": [
        "# range(n) - returns a range of numbers between 0 to n-1\n",
        "print(range(6))\n",
        "# range(i,n) - returns a range of numbers between i to n-1\n",
        "print(range(1,5))\n",
        "# range(i,n,a) - returns a range of numbers between i to n-1 differing by a\n",
        "print(range(2,8,3))"
      ],
      "execution_count": null,
      "outputs": []
    },
    {
      "cell_type": "markdown",
      "metadata": {
        "id": "QDxenAhSY66l"
      },
      "source": [
        "We define user defined function with the help of def keyword\n",
        "\n",
        "```\n",
        "def function_name(params=default_value(optional)):\n",
        "  function_definition\n",
        "```"
      ]
    },
    {
      "cell_type": "code",
      "metadata": {
        "id": "T6KQTmA4YSis"
      },
      "source": [
        "# Finding the square of n\n",
        "def square(i):\n",
        "  return i*i\n",
        "\n",
        "print(square(5))"
      ],
      "execution_count": null,
      "outputs": []
    },
    {
      "cell_type": "code",
      "metadata": {
        "id": "pqp1MucFZdNq"
      },
      "source": [
        "#This function will greet you if you pass a name\n",
        "def greet(username,n):\n",
        "  return (\"Hello \"+ username +\" Nice to have you abroad\"),(\"You are the \" +str(n)+\"th customer\")\n",
        "\n",
        "\n",
        "greet(\"Palspal\",5)"
      ],
      "execution_count": null,
      "outputs": []
    },
    {
      "cell_type": "code",
      "metadata": {
        "id": "wQvge527ZpdT"
      },
      "source": [
        "# function with multiple return\n",
        "elist = [10,50,30,12,6,8,100]\n",
        "def efunc(b):\n",
        "    highest = max(b)\n",
        "    lowest = min(b)\n",
        "    first = b[0]\n",
        "    last = b[-1]\n",
        "    return highest,lowest,first,last\n",
        "\n",
        "efunc(elist)"
      ],
      "execution_count": null,
      "outputs": []
    },
    {
      "cell_type": "markdown",
      "metadata": {
        "id": "f_jlBHVhsQIS"
      },
      "source": [
        "### Implicit arguments\n",
        "When an argument of a function is common in majority of the cases or it is \"implicit\" this concept is used."
      ]
    },
    {
      "cell_type": "code",
      "metadata": {
        "id": "sl3oVnVZqAv6"
      },
      "source": [
        "def leap(a,c=4):\n",
        "  z=a%c\n",
        "  if(z==0):\n",
        "    print(\"Leap year\")\n",
        "  else:\n",
        "    print(\"Not a leap year\")\n",
        "\n",
        "leap(1980)\n",
        "leap(2100,400)"
      ],
      "execution_count": null,
      "outputs": []
    },
    {
      "cell_type": "markdown",
      "metadata": {
        "id": "WSbhPI0Dy3lG"
      },
      "source": [
        "If the number of arguments that is to be accepted by a function is not known then a asterisk symbol is used before the argument.\n",
        "\n"
      ]
    },
    {
      "cell_type": "code",
      "metadata": {
        "id": "VMMPHJ-KsH2E"
      },
      "source": [
        "def myfav(*args):\n",
        "  for names in args:\n",
        "    print(\"MY favourites are \"+names)\n",
        "\n",
        "\n",
        "myfav(\"asus\",\"amd\",\"nvidia\")\n",
        "\n",
        "myfav(\"t\",\"o\",\"y\",\"o\",\"t\",\"a\")"
      ],
      "execution_count": null,
      "outputs": []
    },
    {
      "cell_type": "markdown",
      "metadata": {
        "id": "8fNsZlI60UYL"
      },
      "source": [
        "### Lamba functions\n",
        "A lambda function is a small anonymous function.\n",
        "\n",
        "A lambda function can take any number of arguments, but can only have one expression.\n",
        "\n",
        "Syntax:\n",
        "\n",
        "`lambda arguments : expression`"
      ]
    },
    {
      "cell_type": "code",
      "metadata": {
        "id": "6VxyTvWM0CLF"
      },
      "source": [
        "x=lambda a,b,c:a*b/c\n",
        "print(x(4,5,2))"
      ],
      "execution_count": null,
      "outputs": []
    },
    {
      "cell_type": "markdown",
      "metadata": {
        "id": "7GELSARr1DLf"
      },
      "source": [
        "#### map\n",
        "map( ) function basically executes the function that is defined to each of the list's element separately."
      ]
    },
    {
      "cell_type": "code",
      "metadata": {
        "id": "fJflpzqb02DC"
      },
      "source": [
        "gh1 = [1,2,3,4,5,6,7,8,9]\n",
        "gh2=[5,6,7,8,9,11,2,3,4]\n",
        "eg = map(lambda x:x+2, gh1)\n",
        "print(list(eg))\n",
        "eg2 = map(lambda x,y:x+y, gh1, gh2)\n",
        "print (list(eg2))"
      ],
      "execution_count": null,
      "outputs": []
    },
    {
      "cell_type": "markdown",
      "metadata": {
        "id": "leISUNHf_9WX"
      },
      "source": [
        "### filter()\n",
        "function is used to filter out the values in a list. Note that filter() function returns the result in a new list."
      ]
    },
    {
      "cell_type": "code",
      "metadata": {
        "id": "NkDNDNnn2r-s"
      },
      "source": [
        "print(list(filter(lambda x:x<5,gh1)))"
      ],
      "execution_count": null,
      "outputs": []
    },
    {
      "cell_type": "markdown",
      "metadata": {
        "id": "unfd8UKBARQH"
      },
      "source": [
        "In Python, functions are the first class objects, which means that –\n",
        "\n",
        "Functions are objects; they can be referenced to, passed to a variable and returned from other functions as well.\n",
        "Functions can be defined inside another function and can also be passed as argument to another function.\n",
        "\n",
        "![alt text](https://8thlight.com/blog/assets/posts/2019-05-07-some-common-gotchas-in-python/legb-01826a807dabf2595235263252bf5b5c374c63bc7b972fb934aa1ea041897763.png)"
      ]
    },
    {
      "cell_type": "markdown",
      "metadata": {
        "id": "iSh2Ksy9g5cI"
      },
      "source": []
    },
    {
      "cell_type": "markdown",
      "metadata": {
        "id": "JNbL03cWYxFC"
      },
      "source": [
        "# Decorrators"
      ]
    },
    {
      "cell_type": "markdown",
      "metadata": {
        "id": "0w4jgopVY8bI"
      },
      "source": [
        "A decorator is a design pattern in Python that allows a user to add new functionality to an existing object without modifying its structure. Decorators are usually called before the definition of a function you want to decorate."
      ]
    },
    {
      "cell_type": "code",
      "metadata": {
        "id": "8Xzq3JylYwaW"
      },
      "source": [
        "#we can asisgn functions to variables like\n",
        "\n",
        "def mult(a,b):\n",
        "  return a*b\n",
        "\n",
        "sr=mult\n",
        "sr(5,6)"
      ],
      "execution_count": null,
      "outputs": []
    },
    {
      "cell_type": "markdown",
      "metadata": {
        "id": "BtQx1uEyZWWA"
      },
      "source": [
        "#### **Defining Functions Inside other Functions**"
      ]
    },
    {
      "cell_type": "code",
      "metadata": {
        "id": "TIpF072rYwTm"
      },
      "source": [
        "\n",
        "def decc(func):\n",
        "\n",
        "\t# hect is a Wrapper function in\n",
        "\tdef hect():\n",
        "\t\tprint(\"a nested func\")\n",
        "\t\tfunc() #calling the actual function\n",
        "\t\tprint(\"func executed\")\n",
        "\n",
        "\treturn hect\n",
        "\n",
        "def func():\n",
        "  print(\"The inner circle\")\n",
        "\n",
        "\n",
        "func=decc(func)\n",
        "\n",
        "func()"
      ],
      "execution_count": null,
      "outputs": []
    },
    {
      "cell_type": "markdown",
      "metadata": {
        "id": "_XTE0wQfa-bz"
      },
      "source": [
        "Decorators are very powerful and useful tool in Python since it allows programmers to modify the behavior of function or class"
      ]
    },
    {
      "cell_type": "code",
      "metadata": {
        "id": "xfWVeJA0YwQI"
      },
      "source": [
        "def uppercase_decorator(function):\n",
        "    def wrapper():\n",
        "        func = function()\n",
        "        make_uppercase = func.upper()\n",
        "        return make_uppercase\n",
        "\n",
        "    return wrapper\n",
        "\n",
        "\n",
        "def say_hi():\n",
        "    return 'Death Note'\n",
        "\n",
        "decorate = uppercase_decorator(say_hi)\n",
        "decorate()"
      ],
      "execution_count": null,
      "outputs": []
    },
    {
      "cell_type": "code",
      "metadata": {
        "id": "IMZyu1i-YwNE"
      },
      "source": [
        "#However, Python provides a much easier way for us to apply decorators. We simply use the @ symbol before the function we'd like to decorate. Let's show that in practice below.\n",
        "\n",
        "@uppercase_decorator\n",
        "def say_hi():\n",
        "    return 'Your name'\n",
        "\n",
        "say_hi()"
      ],
      "execution_count": null,
      "outputs": []
    },
    {
      "cell_type": "markdown",
      "metadata": {
        "id": "YQsb0Qvp0Wv5"
      },
      "source": [
        "#### **Applying Multiple Decorators to a Single Function**\n",
        "We can use multiple decorators to a single function. However, the decorators will be applied in the order that we've called them. another decorator that splits the sentence into a list will be applied"
      ]
    },
    {
      "cell_type": "code",
      "metadata": {
        "id": "BVLYmfHR0Y-U"
      },
      "source": [
        "def split(func1):\n",
        "  def inn2():\n",
        "    func=func1()\n",
        "    split_str=func.split()\n",
        "\n",
        "    return split_str\n",
        "\n",
        "  return inn2\n",
        "\n",
        "@split\n",
        "@uppercase_decorator\n",
        "def say_hi():\n",
        "    return 'One more chnace'\n",
        "\n",
        "say_hi()\n"
      ],
      "execution_count": null,
      "outputs": []
    },
    {
      "cell_type": "code",
      "metadata": {
        "id": "lCm5VngL0ZEo"
      },
      "source": [],
      "execution_count": null,
      "outputs": []
    },
    {
      "cell_type": "markdown",
      "metadata": {
        "id": "nA0xEs0u2siS"
      },
      "source": [
        "#### **Accepting Arguments in Decorator Functions**\n",
        "Sometimes we might need to define a decorator that accepts arguments. We achieve this by passing the arguments to the wrapper function. The arguments will then be passed to the function that is being decorated at call time.\n"
      ]
    },
    {
      "cell_type": "code",
      "metadata": {
        "id": "RxkR57aA2wKm"
      },
      "source": [
        "def arg_decc(function):\n",
        "    def wrap_arg(arg1, arg2):\n",
        "        print(\"My arguments are: {0}, {1}\".format(arg1,arg2))\n",
        "        function(arg1, arg2)\n",
        "    return wrap_arg\n",
        "\n",
        "\n",
        "@arg_decc\n",
        "def cities(city_one, city_two):\n",
        "    print(\"Cities I love are {0} and {1}\".format(city_one, city_two))\n",
        "\n",
        "cities(\"Coochbehar\",\"Kolkata\")"
      ],
      "execution_count": null,
      "outputs": []
    },
    {
      "cell_type": "markdown",
      "metadata": {
        "id": "OpqI4upeCOPo"
      },
      "source": [
        "## Lists\n",
        "A list is a collection which is ordered and changeable. In Python lists are written with square brackets."
      ]
    },
    {
      "cell_type": "code",
      "metadata": {
        "id": "YxZjatNjCNr1"
      },
      "source": [
        "list_a = []\n",
        "print (type(list_a))"
      ],
      "execution_count": null,
      "outputs": []
    },
    {
      "cell_type": "code",
      "metadata": {
        "id": "9-IS1VW4Asd8"
      },
      "source": [
        "# Let's define some list for the following illustrations\n",
        "\n",
        "num_list = [12, 65, 74, 82, 32.6, 71.4, 673.14]\n",
        "names_list=['palspal','anitesh','rajueatskaju','shatadru','ucalyptus']\n",
        "math_constant_list = [ 2.71828, 3.1415926535, 1.32471, 3.3598856662]"
      ],
      "execution_count": null,
      "outputs": []
    },
    {
      "cell_type": "markdown",
      "metadata": {
        "id": "a8vTFIfhDsGm"
      },
      "source": [
        "### **Indexing**\n",
        "In python, Indexing starts from 0. Thus now the list x, which has two elements will have apple at 0 index and orange at 1 index."
      ]
    },
    {
      "cell_type": "code",
      "metadata": {
        "id": "V8sidHpRDQ14"
      },
      "source": [
        "names_list[0]"
      ],
      "execution_count": null,
      "outputs": []
    },
    {
      "cell_type": "markdown",
      "metadata": {
        "id": "ylzhRV6AENgp"
      },
      "source": [
        "in Python, if you are stating indexing from negative numbers, it will traverse through the back of the list.\n",
        "\n",
        "```\n",
        " x[0] = x[-4]\n",
        " x[1] = x[-3]\n",
        " ```\n",
        "\n",
        " This concept can be extended towards lists with more many elements."
      ]
    },
    {
      "cell_type": "code",
      "metadata": {
        "id": "Rf4Kq5c8DZQk"
      },
      "source": [
        "names_list[-1]"
      ],
      "execution_count": null,
      "outputs": []
    },
    {
      "cell_type": "code",
      "metadata": {
        "id": "j5YWTc3_EJKq"
      },
      "source": [
        "names_list[-3]"
      ],
      "execution_count": null,
      "outputs": []
    },
    {
      "cell_type": "markdown",
      "metadata": {
        "id": "j-GCTNOmGtGq"
      },
      "source": [
        "We can merge two list into one to create a 2D list"
      ]
    },
    {
      "cell_type": "code",
      "metadata": {
        "id": "r9pbHEqvEw2k"
      },
      "source": [
        "merged_list=[num_list,math_constant_list]\n",
        "merged_list"
      ],
      "execution_count": null,
      "outputs": []
    },
    {
      "cell_type": "code",
      "metadata": {
        "id": "AQEtcFkDHDgX"
      },
      "source": [
        "merged_list[0][2]"
      ],
      "execution_count": null,
      "outputs": []
    },
    {
      "cell_type": "code",
      "metadata": {
        "id": "SVxmcY4GGJ6c"
      },
      "source": [
        "merged_list[1][-1]"
      ],
      "execution_count": null,
      "outputs": []
    },
    {
      "cell_type": "markdown",
      "metadata": {
        "id": "bFtjm_onHoO2"
      },
      "source": [
        "Indexing limited us to accessing a single element at a time.\n",
        " Slicing on the other hand is accessing a sequence of data inside the list. In other words \"slicing\" the list.\n",
        "\n",
        "### **Slicing**\n",
        "It is done by defining the index values of the first element and the last element from the parent list that is required in the sliced list. It is written as parentlist[ a : b ] where a,b are the index values from the parent list. If a or b is not defined then the index value is considered to be the first value for a if a is not defined and the last value for b when b is not defined."
      ]
    },
    {
      "cell_type": "code",
      "metadata": {
        "id": "AyGNUb17Gbz1"
      },
      "source": [
        "merged_list[0][0:3]"
      ],
      "execution_count": null,
      "outputs": []
    },
    {
      "cell_type": "code",
      "metadata": {
        "id": "xHYS0vASH0db"
      },
      "source": [
        "names_list[1:3]"
      ],
      "execution_count": null,
      "outputs": []
    },
    {
      "cell_type": "code",
      "metadata": {
        "id": "aEMg93LiJ0ve"
      },
      "source": [
        "names_list[:3]"
      ],
      "execution_count": null,
      "outputs": []
    },
    {
      "cell_type": "code",
      "metadata": {
        "id": "ruHC3OESJ7zX"
      },
      "source": [
        "names_list[3:]"
      ],
      "execution_count": null,
      "outputs": []
    },
    {
      "cell_type": "code",
      "metadata": {
        "id": "b3FqjAH4IhzQ"
      },
      "source": [
        "names_list[7] # Index error"
      ],
      "execution_count": null,
      "outputs": []
    },
    {
      "cell_type": "code",
      "metadata": {
        "id": "Vms2HmlLJ7OG"
      },
      "source": [
        "numbers = [i for i in range(25)]\n",
        "numbers[3:9:2]"
      ],
      "execution_count": null,
      "outputs": []
    },
    {
      "cell_type": "markdown",
      "metadata": {
        "id": "jISBnXz5q8D2"
      },
      "source": [
        "Python sequence slice addresses can be written as a[start:end:step] and any of start, stop or end can be dropped. a[: : i] is every i'th element of the sequence.\n",
        "\n",
        "There are two ways of generating list from range :-\n",
        "\n",
        "- using list() typecasting\n",
        "- using shorter notation"
      ]
    },
    {
      "cell_type": "code",
      "metadata": {
        "id": "h7wSNKJbqeLA"
      },
      "source": [
        "list(range(10)[::2])"
      ],
      "execution_count": null,
      "outputs": []
    },
    {
      "cell_type": "code",
      "metadata": {
        "id": "CrGXyQn5Lf_Y"
      },
      "source": [
        "[i for i in range(10)] # generating list from range function"
      ],
      "execution_count": null,
      "outputs": []
    },
    {
      "cell_type": "code",
      "metadata": {
        "id": "1Mf-nE-2rKY7"
      },
      "source": [
        "y = [1,2,3,4,5,6]\n",
        "y[-3::2]\n",
        "#This means starting from the 3th element from the end, which is number 4, and counting backwards by 2 (skipping 1) until the beginning of the array is reached."
      ],
      "execution_count": null,
      "outputs": []
    },
    {
      "cell_type": "code",
      "metadata": {
        "id": "LlMk4AZGrcKr"
      },
      "source": [
        "y[::-1]"
      ],
      "execution_count": null,
      "outputs": []
    },
    {
      "cell_type": "markdown",
      "metadata": {
        "id": "7UyosU8bsvxV"
      },
      "source": [
        "### List Methods\n",
        "The methods of list are\n",
        "\n",
        "- append()\n",
        "\n",
        "- extend()\n",
        "\n",
        "- index()\n",
        "\n",
        "- insert()\n",
        "\n",
        "- pop()"
      ]
    },
    {
      "cell_type": "markdown",
      "metadata": {
        "id": "UITpw6Ko3RfJ"
      },
      "source": [
        "**append(a)** is used to append element a at the end of list."
      ]
    },
    {
      "cell_type": "code",
      "metadata": {
        "id": "lH9AKOAAsfof"
      },
      "source": [
        "#use of append\n",
        "lst = [1,1,4,8,7]\n",
        "lst.append(1)\n",
        "print (lst)"
      ],
      "execution_count": null,
      "outputs": []
    },
    {
      "cell_type": "markdown",
      "metadata": {
        "id": "NXdGmslOz-2s"
      },
      "source": [
        "#### Joining two lists\n",
        "\n",
        "**extend(lst)** is used to to nest one list lst into given list."
      ]
    },
    {
      "cell_type": "code",
      "metadata": {
        "id": "4uqMNAAuzAxr"
      },
      "source": [
        "lst1 = [1,1,4,8,7]\n",
        "lst2=[2,5,6,7]\n",
        "lst1.extend(lst2)\n",
        "lst1"
      ],
      "execution_count": null,
      "outputs": []
    },
    {
      "cell_type": "code",
      "metadata": {
        "id": "XUc-PCDi9N_w"
      },
      "source": [
        "list1 = [\"a\", \"b\" , \"c\"]\n",
        "list2 = [1, 2, 3]\n",
        "\n",
        "list3 = list1 + list2\n",
        "print(list3)"
      ],
      "execution_count": null,
      "outputs": []
    },
    {
      "cell_type": "code",
      "metadata": {
        "id": "61BDewiF9VAL"
      },
      "source": [
        "list1 = [\"a\", \"b\" , \"c\"]\n",
        "list2 = [1, 2, 3]\n",
        "\n",
        "for x in list2:\n",
        "  list1.append(x)\n",
        "\n",
        "print(list1)"
      ],
      "execution_count": null,
      "outputs": []
    },
    {
      "cell_type": "markdown",
      "metadata": {
        "id": "E7nCaOCY0AH-"
      },
      "source": [
        "**index(i)** is used to find the index value of a particular element i. Note that if there are multiple elements of the same value then the first index value of that element is returned."
      ]
    },
    {
      "cell_type": "code",
      "metadata": {
        "id": "_wBWusm8zH0E"
      },
      "source": [
        "lst.index(4)"
      ],
      "execution_count": null,
      "outputs": []
    },
    {
      "cell_type": "markdown",
      "metadata": {
        "id": "NmS9YzHB0AoU"
      },
      "source": [
        "**insert(a,b)** is used to insert a element y at a specified index value x. append( ) function made it only possible to insert at the end."
      ]
    },
    {
      "cell_type": "code",
      "metadata": {
        "id": "rQGM9NJuzdKO"
      },
      "source": [
        "lst.insert(4,'asus')\n",
        "print(lst)"
      ],
      "execution_count": null,
      "outputs": []
    },
    {
      "cell_type": "markdown",
      "metadata": {
        "id": "Ul6aIlV_3mOh"
      },
      "source": [
        "**remove()** is used to delete elements from list"
      ]
    },
    {
      "cell_type": "code",
      "metadata": {
        "id": "Fk4WFQ6y30hc"
      },
      "source": [
        "lst.remove('asus')\n",
        "print(lst)"
      ],
      "execution_count": null,
      "outputs": []
    },
    {
      "cell_type": "markdown",
      "metadata": {
        "id": "GDT9NGHC0Bv7"
      },
      "source": [
        "**pop( )** removes the specified index, (or the last item if index is not specified). This is similar to the operation of a stack. Hence it wouldn't be wrong to tell that lists can be used as a stack."
      ]
    },
    {
      "cell_type": "code",
      "metadata": {
        "id": "L4oIQUVuz5-i"
      },
      "source": [
        "lst.pop(2)"
      ],
      "execution_count": null,
      "outputs": []
    },
    {
      "cell_type": "markdown",
      "metadata": {
        "id": "rU699nl75nTV"
      },
      "source": [
        "**del** keyword removes the specified index. It is also used to list completely."
      ]
    },
    {
      "cell_type": "code",
      "metadata": {
        "id": "46rUdYlQ4DWW"
      },
      "source": [
        "del lst[3]\n",
        "lst"
      ],
      "execution_count": null,
      "outputs": []
    },
    {
      "cell_type": "code",
      "metadata": {
        "id": "zMFgvGpa6ZQh"
      },
      "source": [
        "del lst1\n",
        "lst1 # Gets error list not defined"
      ],
      "execution_count": null,
      "outputs": []
    },
    {
      "cell_type": "markdown",
      "metadata": {
        "id": "-BhJWllI6P8c"
      },
      "source": [
        "**reverse()** is used to reverse a list"
      ]
    },
    {
      "cell_type": "code",
      "metadata": {
        "id": "liTN_2iZ6jD1"
      },
      "source": [
        "lst.reverse()\n",
        "print(lst)"
      ],
      "execution_count": null,
      "outputs": []
    },
    {
      "cell_type": "markdown",
      "metadata": {
        "id": "edZ5snuN6r4p"
      },
      "source": [
        "**sort()** is used to sort a list in ascending order otherwise if reverse=True then descending"
      ]
    },
    {
      "cell_type": "code",
      "metadata": {
        "id": "R4eBGZxa6rX9"
      },
      "source": [
        "lst.sort()\n",
        "print(lst)"
      ],
      "execution_count": null,
      "outputs": []
    },
    {
      "cell_type": "code",
      "metadata": {
        "id": "ddVm5Pub67rN"
      },
      "source": [
        "lst.sort(reverse=True)\n",
        "print(lst)"
      ],
      "execution_count": null,
      "outputs": []
    },
    {
      "cell_type": "code",
      "metadata": {
        "id": "2OEJP-qz7KOX"
      },
      "source": [
        "#for a string list we will use key condiiton again\n",
        "names_list.sort(key=len,reverse=True)\n",
        "print(names_list)"
      ],
      "execution_count": null,
      "outputs": []
    },
    {
      "cell_type": "markdown",
      "metadata": {
        "id": "VZaAP_0M8ka1"
      },
      "source": [
        "#### Copying a list"
      ]
    },
    {
      "cell_type": "code",
      "metadata": {
        "id": "lGODRQy27AzG"
      },
      "source": [
        "thislist = [\"apple\", \"banana\", \"cherry\"]\n",
        "mylist = thislist.copy()\n",
        "print(mylist)"
      ],
      "execution_count": null,
      "outputs": []
    },
    {
      "cell_type": "code",
      "metadata": {
        "id": "YJ2FFf2988rR"
      },
      "source": [
        "thislist = [\"apple\", \"banana\", \"cherry\"]\n",
        "mylist = list(thislist)\n",
        "print(mylist)"
      ],
      "execution_count": null,
      "outputs": []
    },
    {
      "cell_type": "markdown",
      "metadata": {
        "id": "Ji-A71G48oNG"
      },
      "source": [
        "#### Clearing a list"
      ]
    },
    {
      "cell_type": "code",
      "metadata": {
        "id": "93rp5KAt8uxV"
      },
      "source": [
        "thislist = [\"apple\", \"banana\", \"cherry\"]\n",
        "thislist.clear()\n",
        "print(thislist)"
      ],
      "execution_count": null,
      "outputs": []
    },
    {
      "cell_type": "markdown",
      "metadata": {
        "id": "zqgr5yh0A-yO"
      },
      "source": [
        "#### Traversing a list"
      ]
    },
    {
      "cell_type": "code",
      "metadata": {
        "id": "k8ri0Jl1A-P8"
      },
      "source": [
        "for i in math_constant_list:\n",
        "  print(i)"
      ],
      "execution_count": null,
      "outputs": []
    },
    {
      "cell_type": "code",
      "metadata": {
        "id": "wir_keeG86wl"
      },
      "source": [
        "for i in range(len(math_constant_list)):\n",
        "  print(math_constant_list[i])"
      ],
      "execution_count": null,
      "outputs": []
    },
    {
      "cell_type": "markdown",
      "metadata": {
        "id": "QACTSmYdBdd2"
      },
      "source": [
        "**count()** is used to count the no of elements i is present in list"
      ]
    },
    {
      "cell_type": "code",
      "metadata": {
        "id": "KGFXLiJ7BcIG"
      },
      "source": [
        "lst.count(1)"
      ],
      "execution_count": null,
      "outputs": []
    },
    {
      "cell_type": "markdown",
      "metadata": {
        "id": "mlGWiTdcCAK5"
      },
      "source": [
        "### Tuples\n",
        "A tuple is a collection which is ordered and unchangeable. In Python tuples are written with round brackets."
      ]
    },
    {
      "cell_type": "code",
      "metadata": {
        "id": "kLviylNoBsXN"
      },
      "source": [
        "c=(1,3,17,8)\n",
        "pete=('tensorflow','pytorch','Cuda','Cafe')"
      ],
      "execution_count": null,
      "outputs": []
    },
    {
      "cell_type": "markdown",
      "metadata": {
        "id": "4U6RFHH_mBPx"
      },
      "source": [
        "Tuples are similar to lists but only big difference is the elements inside a list can be changed but in tuple it cannot be changed."
      ]
    },
    {
      "cell_type": "code",
      "metadata": {
        "id": "nb7C_rozmDCA"
      },
      "source": [
        "pete[1]"
      ],
      "execution_count": null,
      "outputs": []
    },
    {
      "cell_type": "code",
      "metadata": {
        "id": "fXdNG7k3meiw"
      },
      "source": [
        "pete[1]='asus' #"
      ],
      "execution_count": null,
      "outputs": []
    },
    {
      "cell_type": "markdown",
      "metadata": {
        "id": "tzu4UP6xm3NZ"
      },
      "source": [
        "If you want to directly declare a tuple it can be done by using a comma at the end of the data."
      ]
    },
    {
      "cell_type": "code",
      "metadata": {
        "id": "9jC7NlMcmy6H"
      },
      "source": [
        "11,"
      ],
      "execution_count": null,
      "outputs": []
    },
    {
      "cell_type": "code",
      "metadata": {
        "id": "QkTO8XZ_mi4L"
      },
      "source": [
        "2*(11,)"
      ],
      "execution_count": null,
      "outputs": []
    },
    {
      "cell_type": "code",
      "metadata": {
        "id": "wNxuqnKPnFS7"
      },
      "source": [
        "thr=tuple(numbers)# making a tuple\n",
        "thr2=tuple('No Newyears day')"
      ],
      "execution_count": null,
      "outputs": []
    },
    {
      "cell_type": "code",
      "metadata": {
        "id": "n7cm_fdoo5yj"
      },
      "source": [
        "thr"
      ],
      "execution_count": null,
      "outputs": []
    },
    {
      "cell_type": "code",
      "metadata": {
        "id": "LdeB-cNco6cv"
      },
      "source": [
        "thr2"
      ],
      "execution_count": null,
      "outputs": []
    },
    {
      "cell_type": "code",
      "metadata": {
        "id": "UFoquxpRpKcV"
      },
      "source": [
        "thr2.count('e')"
      ],
      "execution_count": null,
      "outputs": []
    },
    {
      "cell_type": "markdown",
      "metadata": {
        "id": "LgxgPjN0pO8E"
      },
      "source": [
        "#### Mapping one tuple to another\n",
        "\n",
        "Mapping will give us pairs assigned to each other"
      ]
    },
    {
      "cell_type": "code",
      "metadata": {
        "id": "MVoIW7cspS2A"
      },
      "source": [
        "(anish,rajesh,navonil)=('Fossils','Eagles','Pink Flyod')"
      ],
      "execution_count": null,
      "outputs": []
    },
    {
      "cell_type": "code",
      "metadata": {
        "id": "Lr4WvgAJqGPb"
      },
      "source": [
        "print(anish)"
      ],
      "execution_count": null,
      "outputs": []
    },
    {
      "cell_type": "code",
      "metadata": {
        "id": "ZfIco4whN7M-"
      },
      "source": [],
      "execution_count": null,
      "outputs": []
    },
    {
      "cell_type": "markdown",
      "metadata": {
        "id": "0-PVBJw2N7uU"
      },
      "source": [
        "## Sets"
      ]
    },
    {
      "cell_type": "markdown",
      "metadata": {
        "id": "lbxrqVZiOFO8"
      },
      "source": [
        "**Sets** are mainly used to eliminate repeated numbers in a sequence. It is also used to perform some standard set operations.\n",
        "\n",
        "Sets are declared as set() which will initialize a empty set. Also set([sequence]) can be executed to declare a set with elements"
      ]
    },
    {
      "cell_type": "code",
      "metadata": {
        "id": "TL6ktFQbOAPx"
      },
      "source": [
        "seta = set()\n",
        "print(type(seta))"
      ],
      "execution_count": null,
      "outputs": []
    },
    {
      "cell_type": "code",
      "metadata": {
        "id": "EETExp_8OAUb"
      },
      "source": [
        "seta=set([1,2,3,5,5,6,7,8,8,9])\n",
        "print(seta)\n",
        "setb=set(lst)\n",
        "print(setb)"
      ],
      "execution_count": null,
      "outputs": []
    },
    {
      "cell_type": "code",
      "metadata": {
        "id": "HjoNmLS3yWeV"
      },
      "source": [],
      "execution_count": null,
      "outputs": []
    },
    {
      "cell_type": "markdown",
      "metadata": {
        "id": "Vd1dHyYuRJnC"
      },
      "source": [
        "# Dictionaries"
      ]
    },
    {
      "cell_type": "markdown",
      "metadata": {
        "id": "PiwDLJvXRUWE"
      },
      "source": [
        " A Python dictionary is a mapping of unique keys to values. Dictionaries are mutable, which means they can be changed. A dictionary maps a set of objects (keys) to another set of objects (values)."
      ]
    },
    {
      "cell_type": "code",
      "metadata": {
        "id": "2YxinQaSRUmy"
      },
      "source": [
        "D0={}\n",
        "D1= dict()\n",
        "print(type(D0),type(D1))"
      ],
      "execution_count": null,
      "outputs": []
    },
    {
      "cell_type": "code",
      "metadata": {
        "id": "bpiKVZczRUq7"
      },
      "source": [
        "#Dictionary works somewhat like a list but with an added capability of assigning it's own index style.\n",
        "\n",
        "D0['One'] = 1\n",
        "D0['OneTwo'] = 12\n",
        "print (D0)"
      ],
      "execution_count": null,
      "outputs": []
    },
    {
      "cell_type": "code",
      "metadata": {
        "id": "LyS1dbnCRUvH"
      },
      "source": [
        "#That is how a dictionary looks like. Now you are able to access '1' by the index value set at 'One'\n",
        "print (D0['One'])\n",
        "1\n",
        "#Two lists which are related can be merged to form a dictionary.\n",
        "#zip( ) function is used to combine two lists\n",
        "numbers=[1,2,3,4,5,6,7,8]\n",
        "lst1=['a','b','c','d','e','f','g','h']\n",
        "D2 = zip(lst1,numbers)\n",
        "print(list(D2))"
      ],
      "execution_count": null,
      "outputs": []
    },
    {
      "cell_type": "code",
      "metadata": {
        "id": "NJ2plWenOD0G"
      },
      "source": [
        "#Creating a dictionary\n",
        "\n",
        "marks={'history':45,'Geography':54,'Hindi':56}\n",
        "\n",
        "print(marks)\n",
        "\n",
        "# access elements\n",
        "\n",
        "print(marks['Geography'])\n",
        "\n",
        "#adding elements\n",
        "\n",
        "marks['english']=47\n",
        "\n",
        "print(marks)\n",
        "\n",
        "# Update keys\n",
        "marks.update({'Chemistry':89,'Physics':98})\n",
        "\n",
        "print(marks)\n",
        "\n",
        "del marks['Hindi']\n",
        "\n",
        "print(marks)"
      ],
      "execution_count": null,
      "outputs": []
    },
    {
      "cell_type": "code",
      "metadata": {
        "id": "Wt9Td1gjOsjB"
      },
      "source": [],
      "execution_count": null,
      "outputs": []
    },
    {
      "cell_type": "markdown",
      "metadata": {
        "id": "WNKaw_XWiJ7_"
      },
      "source": [
        "## Packages and Classes\n",
        "\n",
        "Creating packages and classes in Python is an important feature that makes it an object oriented programming language. It gives modularity and dynamicity.\n",
        "\n",
        "### Packages\n",
        "A package is a folder that contains other smaller programs or submodules.\n",
        "\n",
        "#### Importing packages\n",
        "Packages should be always be imported first in the program. The package is imported using *import* keyword\n",
        "\n",
        "`import package_name`"
      ]
    },
    {
      "cell_type": "code",
      "metadata": {
        "id": "5Au_7lyVkVer"
      },
      "source": [
        "# Importing package\n",
        "import time"
      ],
      "execution_count": null,
      "outputs": []
    },
    {
      "cell_type": "code",
      "metadata": {
        "id": "CJ1q5S4QlJ42"
      },
      "source": [],
      "execution_count": null,
      "outputs": []
    }
  ]
}